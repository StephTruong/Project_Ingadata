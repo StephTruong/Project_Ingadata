{
 "cells": [
  {
   "cell_type": "code",
   "execution_count": 433,
   "metadata": {
    "collapsed": true
   },
   "outputs": [],
   "source": [
    "import csv\n",
    "import pandas as pd\n",
    "import numpy as np\n"
   ]
  },
  {
   "cell_type": "code",
   "execution_count": 434,
   "metadata": {
    "collapsed": false
   },
   "outputs": [
    {
     "data": {
      "text/html": [
       "<div>\n",
       "<table border=\"1\" class=\"dataframe\">\n",
       "  <thead>\n",
       "    <tr style=\"text-align: right;\">\n",
       "      <th></th>\n",
       "      <th>category</th>\n",
       "      <th>annualSpent</th>\n",
       "      <th>ads</th>\n",
       "      <th>aur</th>\n",
       "      <th>upt</th>\n",
       "      <th>numberDept</th>\n",
       "      <th>age</th>\n",
       "      <th>income</th>\n",
       "      <th>prevCategory</th>\n",
       "    </tr>\n",
       "  </thead>\n",
       "  <tbody>\n",
       "    <tr>\n",
       "      <th>0</th>\n",
       "      <td>0</td>\n",
       "      <td>1765.654128</td>\n",
       "      <td>138.043031</td>\n",
       "      <td>51.375412</td>\n",
       "      <td>2.184242</td>\n",
       "      <td>8.059339</td>\n",
       "      <td>48.603100</td>\n",
       "      <td>5929.269951</td>\n",
       "      <td>0</td>\n",
       "    </tr>\n",
       "    <tr>\n",
       "      <th>1</th>\n",
       "      <td>0</td>\n",
       "      <td>1779.235457</td>\n",
       "      <td>141.101633</td>\n",
       "      <td>53.855448</td>\n",
       "      <td>1.792615</td>\n",
       "      <td>9.327111</td>\n",
       "      <td>51.877461</td>\n",
       "      <td>42232.922614</td>\n",
       "      <td>1</td>\n",
       "    </tr>\n",
       "    <tr>\n",
       "      <th>2</th>\n",
       "      <td>0</td>\n",
       "      <td>1791.259340</td>\n",
       "      <td>138.903619</td>\n",
       "      <td>52.842852</td>\n",
       "      <td>2.413194</td>\n",
       "      <td>13.692749</td>\n",
       "      <td>40.653785</td>\n",
       "      <td>7334.415152</td>\n",
       "      <td>0</td>\n",
       "    </tr>\n",
       "    <tr>\n",
       "      <th>3</th>\n",
       "      <td>0</td>\n",
       "      <td>1894.025873</td>\n",
       "      <td>143.090405</td>\n",
       "      <td>50.879810</td>\n",
       "      <td>3.718243</td>\n",
       "      <td>5.718444</td>\n",
       "      <td>44.801199</td>\n",
       "      <td>1476.881276</td>\n",
       "      <td>0</td>\n",
       "    </tr>\n",
       "    <tr>\n",
       "      <th>4</th>\n",
       "      <td>0</td>\n",
       "      <td>1754.563059</td>\n",
       "      <td>136.757503</td>\n",
       "      <td>49.715023</td>\n",
       "      <td>3.384003</td>\n",
       "      <td>13.361783</td>\n",
       "      <td>46.135527</td>\n",
       "      <td>2100.226851</td>\n",
       "      <td>0</td>\n",
       "    </tr>\n",
       "    <tr>\n",
       "      <th>5</th>\n",
       "      <td>0</td>\n",
       "      <td>1818.565878</td>\n",
       "      <td>140.828628</td>\n",
       "      <td>50.040162</td>\n",
       "      <td>2.404207</td>\n",
       "      <td>4.984910</td>\n",
       "      <td>45.814643</td>\n",
       "      <td>18724.175651</td>\n",
       "      <td>1</td>\n",
       "    </tr>\n",
       "    <tr>\n",
       "      <th>6</th>\n",
       "      <td>0</td>\n",
       "      <td>1775.553064</td>\n",
       "      <td>138.314849</td>\n",
       "      <td>51.097919</td>\n",
       "      <td>3.260138</td>\n",
       "      <td>8.313227</td>\n",
       "      <td>42.890914</td>\n",
       "      <td>2892.572459</td>\n",
       "      <td>1</td>\n",
       "    </tr>\n",
       "    <tr>\n",
       "      <th>7</th>\n",
       "      <td>0</td>\n",
       "      <td>1744.784080</td>\n",
       "      <td>143.378833</td>\n",
       "      <td>56.585813</td>\n",
       "      <td>1.843012</td>\n",
       "      <td>15.980275</td>\n",
       "      <td>42.170368</td>\n",
       "      <td>23304.702718</td>\n",
       "      <td>2</td>\n",
       "    </tr>\n",
       "    <tr>\n",
       "      <th>8</th>\n",
       "      <td>0</td>\n",
       "      <td>1791.998302</td>\n",
       "      <td>136.860752</td>\n",
       "      <td>51.000622</td>\n",
       "      <td>2.384818</td>\n",
       "      <td>9.841851</td>\n",
       "      <td>48.497411</td>\n",
       "      <td>1423.804713</td>\n",
       "      <td>1</td>\n",
       "    </tr>\n",
       "    <tr>\n",
       "      <th>9</th>\n",
       "      <td>0</td>\n",
       "      <td>1817.856526</td>\n",
       "      <td>133.350156</td>\n",
       "      <td>41.431236</td>\n",
       "      <td>1.579885</td>\n",
       "      <td>0.644297</td>\n",
       "      <td>46.682616</td>\n",
       "      <td>105103.659793</td>\n",
       "      <td>1</td>\n",
       "    </tr>\n",
       "    <tr>\n",
       "      <th>10</th>\n",
       "      <td>0</td>\n",
       "      <td>1814.945554</td>\n",
       "      <td>128.847243</td>\n",
       "      <td>55.489393</td>\n",
       "      <td>3.862205</td>\n",
       "      <td>4.680417</td>\n",
       "      <td>52.780949</td>\n",
       "      <td>2735.434282</td>\n",
       "      <td>1</td>\n",
       "    </tr>\n",
       "    <tr>\n",
       "      <th>11</th>\n",
       "      <td>0</td>\n",
       "      <td>1745.612592</td>\n",
       "      <td>137.446990</td>\n",
       "      <td>48.043758</td>\n",
       "      <td>3.092502</td>\n",
       "      <td>13.140209</td>\n",
       "      <td>50.242261</td>\n",
       "      <td>871.008313</td>\n",
       "      <td>0</td>\n",
       "    </tr>\n",
       "    <tr>\n",
       "      <th>12</th>\n",
       "      <td>0</td>\n",
       "      <td>1754.347499</td>\n",
       "      <td>141.490029</td>\n",
       "      <td>50.778735</td>\n",
       "      <td>1.829074</td>\n",
       "      <td>9.721234</td>\n",
       "      <td>44.416426</td>\n",
       "      <td>933645.138201</td>\n",
       "      <td>0</td>\n",
       "    </tr>\n",
       "    <tr>\n",
       "      <th>13</th>\n",
       "      <td>0</td>\n",
       "      <td>1904.892928</td>\n",
       "      <td>147.550190</td>\n",
       "      <td>56.889041</td>\n",
       "      <td>3.052417</td>\n",
       "      <td>6.904785</td>\n",
       "      <td>48.625583</td>\n",
       "      <td>2406.333210</td>\n",
       "      <td>0</td>\n",
       "    </tr>\n",
       "    <tr>\n",
       "      <th>14</th>\n",
       "      <td>0</td>\n",
       "      <td>1787.052828</td>\n",
       "      <td>140.776372</td>\n",
       "      <td>48.534082</td>\n",
       "      <td>3.394065</td>\n",
       "      <td>9.723147</td>\n",
       "      <td>43.023581</td>\n",
       "      <td>45139.512201</td>\n",
       "      <td>0</td>\n",
       "    </tr>\n",
       "    <tr>\n",
       "      <th>15</th>\n",
       "      <td>0</td>\n",
       "      <td>1776.414948</td>\n",
       "      <td>135.707363</td>\n",
       "      <td>48.607462</td>\n",
       "      <td>2.554470</td>\n",
       "      <td>15.082993</td>\n",
       "      <td>42.584329</td>\n",
       "      <td>1813.414715</td>\n",
       "      <td>0</td>\n",
       "    </tr>\n",
       "    <tr>\n",
       "      <th>16</th>\n",
       "      <td>0</td>\n",
       "      <td>1758.841852</td>\n",
       "      <td>142.242144</td>\n",
       "      <td>45.931236</td>\n",
       "      <td>2.714799</td>\n",
       "      <td>8.719629</td>\n",
       "      <td>41.292707</td>\n",
       "      <td>39681.087419</td>\n",
       "      <td>1</td>\n",
       "    </tr>\n",
       "    <tr>\n",
       "      <th>17</th>\n",
       "      <td>0</td>\n",
       "      <td>1817.378139</td>\n",
       "      <td>142.979217</td>\n",
       "      <td>45.856024</td>\n",
       "      <td>4.053329</td>\n",
       "      <td>22.894304</td>\n",
       "      <td>44.203276</td>\n",
       "      <td>122547.796932</td>\n",
       "      <td>1</td>\n",
       "    </tr>\n",
       "    <tr>\n",
       "      <th>18</th>\n",
       "      <td>0</td>\n",
       "      <td>1873.882299</td>\n",
       "      <td>141.562513</td>\n",
       "      <td>55.487227</td>\n",
       "      <td>4.147135</td>\n",
       "      <td>8.959384</td>\n",
       "      <td>51.622432</td>\n",
       "      <td>139935.849771</td>\n",
       "      <td>1</td>\n",
       "    </tr>\n",
       "    <tr>\n",
       "      <th>19</th>\n",
       "      <td>0</td>\n",
       "      <td>1823.921987</td>\n",
       "      <td>136.916866</td>\n",
       "      <td>43.319592</td>\n",
       "      <td>4.060806</td>\n",
       "      <td>11.902943</td>\n",
       "      <td>46.178217</td>\n",
       "      <td>190170.282915</td>\n",
       "      <td>4</td>\n",
       "    </tr>\n",
       "  </tbody>\n",
       "</table>\n",
       "</div>"
      ],
      "text/plain": [
       "    category  annualSpent         ads        aur       upt  numberDept  \\\n",
       "0          0  1765.654128  138.043031  51.375412  2.184242    8.059339   \n",
       "1          0  1779.235457  141.101633  53.855448  1.792615    9.327111   \n",
       "2          0  1791.259340  138.903619  52.842852  2.413194   13.692749   \n",
       "3          0  1894.025873  143.090405  50.879810  3.718243    5.718444   \n",
       "4          0  1754.563059  136.757503  49.715023  3.384003   13.361783   \n",
       "5          0  1818.565878  140.828628  50.040162  2.404207    4.984910   \n",
       "6          0  1775.553064  138.314849  51.097919  3.260138    8.313227   \n",
       "7          0  1744.784080  143.378833  56.585813  1.843012   15.980275   \n",
       "8          0  1791.998302  136.860752  51.000622  2.384818    9.841851   \n",
       "9          0  1817.856526  133.350156  41.431236  1.579885    0.644297   \n",
       "10         0  1814.945554  128.847243  55.489393  3.862205    4.680417   \n",
       "11         0  1745.612592  137.446990  48.043758  3.092502   13.140209   \n",
       "12         0  1754.347499  141.490029  50.778735  1.829074    9.721234   \n",
       "13         0  1904.892928  147.550190  56.889041  3.052417    6.904785   \n",
       "14         0  1787.052828  140.776372  48.534082  3.394065    9.723147   \n",
       "15         0  1776.414948  135.707363  48.607462  2.554470   15.082993   \n",
       "16         0  1758.841852  142.242144  45.931236  2.714799    8.719629   \n",
       "17         0  1817.378139  142.979217  45.856024  4.053329   22.894304   \n",
       "18         0  1873.882299  141.562513  55.487227  4.147135    8.959384   \n",
       "19         0  1823.921987  136.916866  43.319592  4.060806   11.902943   \n",
       "\n",
       "          age         income  prevCategory  \n",
       "0   48.603100    5929.269951             0  \n",
       "1   51.877461   42232.922614             1  \n",
       "2   40.653785    7334.415152             0  \n",
       "3   44.801199    1476.881276             0  \n",
       "4   46.135527    2100.226851             0  \n",
       "5   45.814643   18724.175651             1  \n",
       "6   42.890914    2892.572459             1  \n",
       "7   42.170368   23304.702718             2  \n",
       "8   48.497411    1423.804713             1  \n",
       "9   46.682616  105103.659793             1  \n",
       "10  52.780949    2735.434282             1  \n",
       "11  50.242261     871.008313             0  \n",
       "12  44.416426  933645.138201             0  \n",
       "13  48.625583    2406.333210             0  \n",
       "14  43.023581   45139.512201             0  \n",
       "15  42.584329    1813.414715             0  \n",
       "16  41.292707   39681.087419             1  \n",
       "17  44.203276  122547.796932             1  \n",
       "18  51.622432  139935.849771             1  \n",
       "19  46.178217  190170.282915             4  "
      ]
     },
     "execution_count": 434,
     "metadata": {},
     "output_type": "execute_result"
    }
   ],
   "source": [
    "df=pd.read_csv(\"BWFakeData.csv\")\n",
    "df.head(20)"
   ]
  },
  {
   "cell_type": "code",
   "execution_count": 563,
   "metadata": {
    "collapsed": false
   },
   "outputs": [
    {
     "data": {
      "text/html": [
       "<div>\n",
       "<table border=\"1\" class=\"dataframe\">\n",
       "  <thead>\n",
       "    <tr style=\"text-align: right;\">\n",
       "      <th>category</th>\n",
       "      <th>0</th>\n",
       "      <th>1</th>\n",
       "      <th>2</th>\n",
       "      <th>3</th>\n",
       "      <th>4</th>\n",
       "    </tr>\n",
       "    <tr>\n",
       "      <th>prevCategory</th>\n",
       "      <th></th>\n",
       "      <th></th>\n",
       "      <th></th>\n",
       "      <th></th>\n",
       "      <th></th>\n",
       "    </tr>\n",
       "  </thead>\n",
       "  <tbody>\n",
       "    <tr>\n",
       "      <th>0</th>\n",
       "      <td>24.0</td>\n",
       "      <td>52.0</td>\n",
       "      <td>53.0</td>\n",
       "      <td>6.0</td>\n",
       "      <td>3.0</td>\n",
       "    </tr>\n",
       "    <tr>\n",
       "      <th>1</th>\n",
       "      <td>21.0</td>\n",
       "      <td>86.0</td>\n",
       "      <td>136.0</td>\n",
       "      <td>32.0</td>\n",
       "      <td>22.0</td>\n",
       "    </tr>\n",
       "    <tr>\n",
       "      <th>2</th>\n",
       "      <td>4.0</td>\n",
       "      <td>29.0</td>\n",
       "      <td>147.0</td>\n",
       "      <td>83.0</td>\n",
       "      <td>47.0</td>\n",
       "    </tr>\n",
       "    <tr>\n",
       "      <th>3</th>\n",
       "      <td>0.0</td>\n",
       "      <td>3.0</td>\n",
       "      <td>57.0</td>\n",
       "      <td>93.0</td>\n",
       "      <td>42.0</td>\n",
       "    </tr>\n",
       "    <tr>\n",
       "      <th>4</th>\n",
       "      <td>1.0</td>\n",
       "      <td>0.0</td>\n",
       "      <td>7.0</td>\n",
       "      <td>29.0</td>\n",
       "      <td>26.0</td>\n",
       "    </tr>\n",
       "    <tr>\n",
       "      <th>5</th>\n",
       "      <td>0.0</td>\n",
       "      <td>0.0</td>\n",
       "      <td>0.0</td>\n",
       "      <td>7.0</td>\n",
       "      <td>10.0</td>\n",
       "    </tr>\n",
       "  </tbody>\n",
       "</table>\n",
       "</div>"
      ],
      "text/plain": [
       "category         0     1      2     3     4\n",
       "prevCategory                               \n",
       "0             24.0  52.0   53.0   6.0   3.0\n",
       "1             21.0  86.0  136.0  32.0  22.0\n",
       "2              4.0  29.0  147.0  83.0  47.0\n",
       "3              0.0   3.0   57.0  93.0  42.0\n",
       "4              1.0   0.0    7.0  29.0  26.0\n",
       "5              0.0   0.0    0.0   7.0  10.0"
      ]
     },
     "execution_count": 563,
     "metadata": {},
     "output_type": "execute_result"
    }
   ],
   "source": [
    "migrationsStacked = df.groupby(['prevCategory','category']).agg({'annualSpent' : 'count'})\n",
    "migrations = migrationsStacked.unstack(level=-1)\n",
    "migrations.columns= migrations.columns.droplevel()\n",
    "migrations = migrations.fillna(0)\n",
    "migrations"
   ]
  },
  {
   "cell_type": "code",
   "execution_count": 564,
   "metadata": {
    "collapsed": false,
    "scrolled": true
   },
   "outputs": [
    {
     "name": "stdout",
     "output_type": "stream",
     "text": [
      "                  0      1      2      3      4     5\n",
      "prevCategory                                         \n",
      "0             16.41  35.55  36.23   4.10   2.05  5.66\n",
      "1              6.67  27.32  43.20  10.16   6.99  5.66\n",
      "2              1.22   8.83  44.74  25.26  14.30  5.66\n",
      "3              0.00   1.45  27.58  44.99  20.32  5.66\n",
      "4              1.50   0.00  10.48  43.43  38.93  5.66\n",
      "5              0.00   0.00   0.00  38.85  55.49  5.66\n"
     ]
    },
    {
     "data": {
      "text/plain": [
       "'{\"0\":{\"0\":16.41,\"1\":35.55,\"2\":36.23,\"3\":4.1,\"4\":2.05,\"5\":5.66},\"1\":{\"0\":6.67,\"1\":27.32,\"2\":43.2,\"3\":10.16,\"4\":6.99,\"5\":5.66},\"2\":{\"0\":1.22,\"1\":8.83,\"2\":44.74,\"3\":25.26,\"4\":14.3,\"5\":5.66},\"3\":{\"0\":0.0,\"1\":1.45,\"2\":27.58,\"3\":44.99,\"4\":20.32,\"5\":5.66},\"4\":{\"0\":1.5,\"1\":0.0,\"2\":10.48,\"3\":43.43,\"4\":38.93,\"5\":5.66},\"5\":{\"0\":0.0,\"1\":0.0,\"2\":0.0,\"3\":38.85,\"4\":55.49,\"5\":5.66}}'"
      ]
     },
     "execution_count": 564,
     "metadata": {},
     "output_type": "execute_result"
    }
   ],
   "source": [
    "migrationsToProspect = migrations.sum(axis=1)*0.06\n",
    "migrations= pd.concat([migrations,migrationsToProspect ],axis=1)\n",
    "migrations.columns = [0, 1, 2, 3, 4, 5]\n",
    "migrationsPct = migrations.apply(lambda x: 100*x/float(x.sum()),axis=1).round(2)\n",
    "print migrationsPct\n",
    "migrationsPct.T.to_json()"
   ]
  },
  {
   "cell_type": "markdown",
   "metadata": {},
   "source": [
    "## Migration value impact"
   ]
  },
  {
   "cell_type": "code",
   "execution_count": 437,
   "metadata": {
    "collapsed": false
   },
   "outputs": [
    {
     "data": {
      "text/plain": [
       "category\n",
       "0    3480.781628\n",
       "1    1392.041119\n",
       "2     590.798680\n",
       "3     169.120763\n",
       "4      34.311947\n",
       "5       0.000000\n",
       "dtype: float64"
      ]
     },
     "execution_count": 437,
     "metadata": {},
     "output_type": "execute_result"
    }
   ],
   "source": [
    "\n",
    "catAnnualSpent = df.groupby('category').sum()['annualSpent']\n",
    "catAnnualSpent[5]=0\n",
    "annualSpentAvg = catAnnualSpent/migrationsPct.sum(axis=0)\n",
    "annualSpentAvg[5] = 0\n",
    "annualSpentAvg\n"
   ]
  },
  {
   "cell_type": "code",
   "execution_count": 438,
   "metadata": {
    "collapsed": false
   },
   "outputs": [
    {
     "data": {
      "text/plain": [
       "category\n",
       "0      50\n",
       "1     170\n",
       "2     400\n",
       "3     250\n",
       "4     150\n",
       "5    8980\n",
       "Name: annualSpent, dtype: int64"
      ]
     },
     "execution_count": 438,
     "metadata": {},
     "output_type": "execute_result"
    }
   ],
   "source": [
    "prospectPool = 10000\n",
    "catCount = df.groupby('category').count()['annualSpent']\n",
    "catCount[5]= prospectPool - catCount.sum()\n",
    "catCount"
   ]
  },
  {
   "cell_type": "code",
   "execution_count": 439,
   "metadata": {
    "collapsed": false
   },
   "outputs": [
    {
     "data": {
      "text/plain": [
       "9275.069316000001"
      ]
     },
     "execution_count": 439,
     "metadata": {},
     "output_type": "execute_result"
    }
   ],
   "source": [
    "50*16.41+170*6.67+400*1.22+150*1.5\n",
    "93.026*16.41+123.937*6.67+1798.5253*1.22+3151.768*1.5"
   ]
  },
  {
   "cell_type": "code",
   "execution_count": 440,
   "metadata": {
    "collapsed": false
   },
   "outputs": [
    {
     "name": "stdout",
     "output_type": "stream",
     "text": [
      "[   26.674   103.164   355.185  3786.712  5162.305   566.   ]\n",
      "[   93.0260742   123.9371713  1798.5253408  4266.8166177  3151.7680505\n",
      "   566.002264 ]\n"
     ]
    }
   ],
   "source": [
    "catCount2 = (catCount.values).dot(migrations.values/100)\n",
    "catCount3 = (catCount2).dot(migrations.values/100)\n",
    "\n",
    "print catCount2\n",
    "print catCount3\n"
   ]
  },
  {
   "cell_type": "code",
   "execution_count": 441,
   "metadata": {
    "collapsed": false
   },
   "outputs": [
    {
     "data": {
      "text/plain": [
       "0     6.944325e+05\n",
       "1     1.263838e+06\n",
       "2     2.388646e+06\n",
       "3     2.905288e+06\n",
       "4     3.164553e+06\n",
       "5     3.287864e+06\n",
       "6     3.344574e+06\n",
       "7     3.370260e+06\n",
       "8     3.381838e+06\n",
       "9     3.387068e+06\n",
       "10    3.389456e+06\n",
       "11    3.390573e+06\n",
       "dtype: float64"
      ]
     },
     "execution_count": 441,
     "metadata": {},
     "output_type": "execute_result"
    }
   ],
   "source": [
    "# Matrix multiplication\n",
    "catAnnualSpentEvolution=[]\n",
    "catAnnualSpentEvolution.append(annualSpentAvg*catCount)\n",
    "prevCount = (catCount.values).dot(migrations.values/100)\n",
    "catAnnualSpentEvolution.append(annualSpentAvg*prevCount)\n",
    "\n",
    "for i in range(10):\n",
    "    prevCount = prevCount.dot(migrations.values/100)\n",
    "    catAnnualSpentEvolution.append(annualSpentAvg*prevCount)\n",
    "pd.DataFrame(catAnnualSpentEvolution).sum(axis=1)"
   ]
  },
  {
   "cell_type": "code",
   "execution_count": 442,
   "metadata": {
    "collapsed": false
   },
   "outputs": [
    {
     "data": {
      "text/plain": [
       "'[{\"Alt1\":694432.5262306527,\"Default\":694432.5262306527,\"Year\":0},{\"Alt1\":1263838.0868760042,\"Default\":1263838.0868760042,\"Year\":1},{\"Alt1\":2388646.0652692299,\"Default\":2388646.0652692299,\"Year\":2},{\"Alt1\":2905287.9083062471,\"Default\":2905287.9083062471,\"Year\":3},{\"Alt1\":3164552.8038807414,\"Default\":3164552.8038807414,\"Year\":4},{\"Alt1\":3287863.5232287655,\"Default\":3287863.5232287655,\"Year\":5},{\"Alt1\":3344573.6988711869,\"Default\":3344573.6988711869,\"Year\":6},{\"Alt1\":3370260.2633025539,\"Default\":3370260.2633025539,\"Year\":7},{\"Alt1\":3381838.1816199538,\"Default\":3381838.1816199538,\"Year\":8},{\"Alt1\":3387068.407653986,\"Default\":3387068.407653986,\"Year\":9},{\"Alt1\":3389456.0794891855,\"Default\":3389456.0794891855,\"Year\":10},{\"Alt1\":3390573.4055621144,\"Default\":3390573.4055621144,\"Year\":11}]'"
      ]
     },
     "execution_count": 442,
     "metadata": {},
     "output_type": "execute_result"
    }
   ],
   "source": [
    "catAnnualSpentEvoSum = pd.DataFrame(catAnnualSpentEvolution).sum(axis=1)\n",
    "catAnnualSpentEvoSum2 = catAnnualSpentEvoSum\n",
    "newdf = pd.DataFrame({\"Default\":catAnnualSpentEvoSum,\"Alt1\":catAnnualSpentEvoSum2,\"Year\": [i for i in range(12)]})\n",
    "newdf.to_json(orient=\"records\")"
   ]
  },
  {
   "cell_type": "markdown",
   "metadata": {
    "collapsed": false
   },
   "source": [
    "## Sankey data formating"
   ]
  },
  {
   "cell_type": "code",
   "execution_count": 586,
   "metadata": {
    "collapsed": false,
    "scrolled": true
   },
   "outputs": [
    {
     "name": "stdout",
     "output_type": "stream",
     "text": [
      "[0, 1, 2, 3, 4, 5, 'N0', 'N1', 'N2', 'N3', 'N4', 'N5']\n"
     ]
    },
    {
     "data": {
      "text/plain": [
       "[{'source': 0, 'target': 6, 'value': 24.0},\n",
       " {'source': 0, 'target': 7, 'value': 52.0},\n",
       " {'source': 0, 'target': 8, 'value': 53.0},\n",
       " {'source': 0, 'target': 9, 'value': 6.0},\n",
       " {'source': 0, 'target': 10, 'value': 3.0},\n",
       " {'source': 0, 'target': 11, 'value': 8.0},\n",
       " {'source': 1, 'target': 6, 'value': 21.0},\n",
       " {'source': 1, 'target': 7, 'value': 86.0},\n",
       " {'source': 1, 'target': 8, 'value': 136.0},\n",
       " {'source': 1, 'target': 9, 'value': 32.0},\n",
       " {'source': 1, 'target': 10, 'value': 22.0},\n",
       " {'source': 1, 'target': 11, 'value': 18.0},\n",
       " {'source': 2, 'target': 6, 'value': 4.0},\n",
       " {'source': 2, 'target': 7, 'value': 29.0},\n",
       " {'source': 2, 'target': 8, 'value': 147.0},\n",
       " {'source': 2, 'target': 9, 'value': 83.0},\n",
       " {'source': 2, 'target': 10, 'value': 47.0},\n",
       " {'source': 2, 'target': 11, 'value': 19.0},\n",
       " {'source': 3, 'target': 6, 'value': 0.0},\n",
       " {'source': 3, 'target': 7, 'value': 3.0},\n",
       " {'source': 3, 'target': 8, 'value': 57.0},\n",
       " {'source': 3, 'target': 9, 'value': 93.0},\n",
       " {'source': 3, 'target': 10, 'value': 42.0},\n",
       " {'source': 3, 'target': 11, 'value': 12.0},\n",
       " {'source': 4, 'target': 6, 'value': 1.0},\n",
       " {'source': 4, 'target': 7, 'value': 0.0},\n",
       " {'source': 4, 'target': 8, 'value': 7.0},\n",
       " {'source': 4, 'target': 9, 'value': 29.0},\n",
       " {'source': 4, 'target': 10, 'value': 26.0},\n",
       " {'source': 4, 'target': 11, 'value': 4.0},\n",
       " {'source': 5, 'target': 6, 'value': 0.0},\n",
       " {'source': 5, 'target': 7, 'value': 0.0},\n",
       " {'source': 5, 'target': 8, 'value': 0.0},\n",
       " {'source': 5, 'target': 9, 'value': 7.0},\n",
       " {'source': 5, 'target': 10, 'value': 10.0},\n",
       " {'source': 5, 'target': 11, 'value': 1.0}]"
      ]
     },
     "execution_count": 586,
     "metadata": {},
     "output_type": "execute_result"
    }
   ],
   "source": [
    "#catList = df[\"prevCategory\"].unique()\n",
    "#catList = np.append(catList, [\"N\"+str(i) for i in df[\"category\"].unique()])\n",
    "nodesList=[0,1,2,3,4,5,\"N0\",\"N1\",\"N2\",\"N3\",\"N4\",\"N5\"]\n",
    "#for i in range(len(catList)):\n",
    "#        nodesList.append({\"name\":catList[i]})\n",
    "print nodesList\n",
    "migrationsStacked2 = migrations.stack()\n",
    "connections=[]\n",
    "for i in range(6):\n",
    "    for j in range(6):\n",
    "        try:\n",
    "            value = migrationsStacked2.loc[i,j]\n",
    "        except TypeError,IndexError:\n",
    "            value = 0\n",
    "        connections.append({\"source\":i,\"target\":6+j,\"value\":round(value)})\n",
    "connections"
   ]
  },
  {
   "cell_type": "code",
   "execution_count": 590,
   "metadata": {
    "collapsed": false
   },
   "outputs": [
    {
     "name": "stdout",
     "output_type": "stream",
     "text": [
      "[{'name': 0}, {'name': 1}, {'name': 2}, {'name': 3}, {'name': 4}, {'name': 5}]\n"
     ]
    },
    {
     "data": {
      "text/plain": [
       "[['cat0', 'cat0', 24.0],\n",
       " ['cat0', 'cat1', 52.0],\n",
       " ['cat0', 'cat2', 53.0],\n",
       " ['cat0', 'cat3', 6.0],\n",
       " ['cat0', 'cat4', 3.0],\n",
       " ['cat0', 'cat5', 8.0],\n",
       " ['cat1', 'cat0', 21.0],\n",
       " ['cat1', 'cat1', 86.0],\n",
       " ['cat1', 'cat2', 136.0],\n",
       " ['cat1', 'cat3', 32.0],\n",
       " ['cat1', 'cat4', 22.0],\n",
       " ['cat1', 'cat5', 18.0],\n",
       " ['cat2', 'cat0', 4.0],\n",
       " ['cat2', 'cat1', 29.0],\n",
       " ['cat2', 'cat2', 147.0],\n",
       " ['cat2', 'cat3', 83.0],\n",
       " ['cat2', 'cat4', 47.0],\n",
       " ['cat2', 'cat5', 19.0],\n",
       " ['cat3', 'cat0', 0.0],\n",
       " ['cat3', 'cat1', 3.0],\n",
       " ['cat3', 'cat2', 57.0],\n",
       " ['cat3', 'cat3', 93.0],\n",
       " ['cat3', 'cat4', 42.0],\n",
       " ['cat3', 'cat5', 12.0],\n",
       " ['cat4', 'cat0', 1.0],\n",
       " ['cat4', 'cat1', 0.0],\n",
       " ['cat4', 'cat2', 7.0],\n",
       " ['cat4', 'cat3', 29.0],\n",
       " ['cat4', 'cat4', 26.0],\n",
       " ['cat4', 'cat5', 4.0],\n",
       " ['cat5', 'cat0', 0.0],\n",
       " ['cat5', 'cat1', 0.0],\n",
       " ['cat5', 'cat2', 0.0],\n",
       " ['cat5', 'cat3', 7.0],\n",
       " ['cat5', 'cat4', 10.0],\n",
       " ['cat5', 'cat5', 1.0]]"
      ]
     },
     "execution_count": 590,
     "metadata": {},
     "output_type": "execute_result"
    }
   ],
   "source": [
    "#circular network\n",
    "\n",
    "#catList = df[\"prevCategory\"].unique()\n",
    "#catList = np.append(catList, [\"N\"+str(i) for i in df[\"category\"].unique()])\n",
    "catList=[0,1,2,3,4,5]\n",
    "nodesList= []\n",
    "for i in range(len(catList)):\n",
    "        nodesList.append({\"name\":catList[i]})\n",
    "print nodesList\n",
    "\n",
    "migrationsStacked2 = migrations.stack()\n",
    "connections=[]\n",
    "for i in range(6):\n",
    "    for j in range(6):\n",
    "        try:\n",
    "            value = migrationsStacked2.loc[i,j]\n",
    "        except TypeError,IndexError:\n",
    "            value = 0\n",
    "        connections.append([\"cat\"+str(i),\"cat\"+str(j),round(value)])\n",
    "connections"
   ]
  },
  {
   "cell_type": "code",
   "execution_count": 583,
   "metadata": {
    "collapsed": false
   },
   "outputs": [
    {
     "data": {
      "text/html": [
       "<div>\n",
       "<table border=\"1\" class=\"dataframe\">\n",
       "  <thead>\n",
       "    <tr style=\"text-align: right;\">\n",
       "      <th></th>\n",
       "      <th>0</th>\n",
       "      <th>1</th>\n",
       "      <th>2</th>\n",
       "      <th>3</th>\n",
       "      <th>4</th>\n",
       "      <th>5</th>\n",
       "    </tr>\n",
       "    <tr>\n",
       "      <th>prevCategory</th>\n",
       "      <th></th>\n",
       "      <th></th>\n",
       "      <th></th>\n",
       "      <th></th>\n",
       "      <th></th>\n",
       "      <th></th>\n",
       "    </tr>\n",
       "  </thead>\n",
       "  <tbody>\n",
       "    <tr>\n",
       "      <th>0</th>\n",
       "      <td>24.0</td>\n",
       "      <td>52.0</td>\n",
       "      <td>53.0</td>\n",
       "      <td>6.0</td>\n",
       "      <td>3.0</td>\n",
       "      <td>8.28</td>\n",
       "    </tr>\n",
       "    <tr>\n",
       "      <th>1</th>\n",
       "      <td>21.0</td>\n",
       "      <td>86.0</td>\n",
       "      <td>136.0</td>\n",
       "      <td>32.0</td>\n",
       "      <td>22.0</td>\n",
       "      <td>17.82</td>\n",
       "    </tr>\n",
       "    <tr>\n",
       "      <th>2</th>\n",
       "      <td>4.0</td>\n",
       "      <td>29.0</td>\n",
       "      <td>147.0</td>\n",
       "      <td>83.0</td>\n",
       "      <td>47.0</td>\n",
       "      <td>18.60</td>\n",
       "    </tr>\n",
       "    <tr>\n",
       "      <th>3</th>\n",
       "      <td>0.0</td>\n",
       "      <td>3.0</td>\n",
       "      <td>57.0</td>\n",
       "      <td>93.0</td>\n",
       "      <td>42.0</td>\n",
       "      <td>11.70</td>\n",
       "    </tr>\n",
       "    <tr>\n",
       "      <th>4</th>\n",
       "      <td>1.0</td>\n",
       "      <td>0.0</td>\n",
       "      <td>7.0</td>\n",
       "      <td>29.0</td>\n",
       "      <td>26.0</td>\n",
       "      <td>3.78</td>\n",
       "    </tr>\n",
       "    <tr>\n",
       "      <th>5</th>\n",
       "      <td>0.0</td>\n",
       "      <td>0.0</td>\n",
       "      <td>0.0</td>\n",
       "      <td>7.0</td>\n",
       "      <td>10.0</td>\n",
       "      <td>1.02</td>\n",
       "    </tr>\n",
       "  </tbody>\n",
       "</table>\n",
       "</div>"
      ],
      "text/plain": [
       "                 0     1      2     3     4      5\n",
       "prevCategory                                      \n",
       "0             24.0  52.0   53.0   6.0   3.0   8.28\n",
       "1             21.0  86.0  136.0  32.0  22.0  17.82\n",
       "2              4.0  29.0  147.0  83.0  47.0  18.60\n",
       "3              0.0   3.0   57.0  93.0  42.0  11.70\n",
       "4              1.0   0.0    7.0  29.0  26.0   3.78\n",
       "5              0.0   0.0    0.0   7.0  10.0   1.02"
      ]
     },
     "execution_count": 583,
     "metadata": {},
     "output_type": "execute_result"
    }
   ],
   "source": [
    "migrations"
   ]
  }
 ],
 "metadata": {
  "kernelspec": {
   "display_name": "Python 2",
   "language": "python",
   "name": "python2"
  },
  "language_info": {
   "codemirror_mode": {
    "name": "ipython",
    "version": 2
   },
   "file_extension": ".py",
   "mimetype": "text/x-python",
   "name": "python",
   "nbconvert_exporter": "python",
   "pygments_lexer": "ipython2",
   "version": "2.7.3"
  }
 },
 "nbformat": 4,
 "nbformat_minor": 0
}
